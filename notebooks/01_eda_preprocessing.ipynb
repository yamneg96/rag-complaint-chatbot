{
 "cells": [
  {
   "cell_type": "code",
   "execution_count": null,
   "id": "1804bd32",
   "metadata": {
    "vscode": {
     "languageId": "plaintext"
    }
   },
   "outputs": [],
   "source": [
    "# 01_EDA_And_Preprocessing.ipynb\n",
    "\n",
    "import pandas as pd\n",
    "import matplotlib.pyplot as plt\n",
    "import seaborn as sns\n",
    "\n",
    "# Load data\n",
    "df = pd.read_csv(\"../data/complaints.csv\")\n",
    "\n",
    "# Basic inspection\n",
    "print(df.shape)\n",
    "print(df.columns)\n",
    "print(df.head())\n",
    "\n",
    "# Null values\n",
    "print(df.isnull().sum())\n",
    "\n",
    "# Distribution of categories\n",
    "sns.countplot(y=\"category\", data=df)\n",
    "plt.title(\"Complaint Category Distribution\")\n",
    "plt.tight_layout()\n",
    "plt.show()\n",
    "\n",
    "# Save preprocessed for vectorization\n",
    "df = df.dropna(subset=[\"complaint_text\", \"category\"])\n",
    "df.to_csv(\"../data/cleaned_complaints.csv\", index=False)\n"
   ]
  }
 ],
 "metadata": {
  "language_info": {
   "name": "python"
  }
 },
 "nbformat": 4,
 "nbformat_minor": 5
}
