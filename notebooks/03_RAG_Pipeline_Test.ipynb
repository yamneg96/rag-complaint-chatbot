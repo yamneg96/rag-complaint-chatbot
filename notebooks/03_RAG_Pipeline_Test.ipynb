{
 "cells": [
  {
   "cell_type": "code",
   "execution_count": null,
   "id": "aa6f5cbc",
   "metadata": {
    "vscode": {
     "languageId": "plaintext"
    }
   },
   "outputs": [],
   "source": [
    "# 03_RAG_Pipeline_Test.ipynb\n",
    "\n",
    "from langchain.embeddings import OpenAIEmbeddings\n",
    "from langchain.vectorstores import FAISS\n",
    "from langchain.chat_models import ChatOpenAI\n",
    "from langchain.chains import RetrievalQA\n",
    "\n",
    "# Load vectorstore\n",
    "vectorstore = FAISS.load_local(\"../rag_store/complaints_faiss\", OpenAIEmbeddings())\n",
    "\n",
    "# Set up retriever\n",
    "retriever = vectorstore.as_retriever(search_type=\"similarity\", k=4)\n",
    "\n",
    "# Set up LLM\n",
    "llm = ChatOpenAI(model_name=\"gpt-3.5-turbo\", temperature=0.2)\n",
    "\n",
    "# RetrievalQA Chain\n",
    "qa_chain = RetrievalQA.from_chain_type(llm=llm, retriever=retriever)\n",
    "\n",
    "# Test Query\n",
    "query = \"A customer is complaining about a double charge on their credit card.\"\n",
    "response = qa_chain.run(query)\n",
    "print(response)\n"
   ]
  }
 ],
 "metadata": {
  "language_info": {
   "name": "python"
  }
 },
 "nbformat": 4,
 "nbformat_minor": 5
}
