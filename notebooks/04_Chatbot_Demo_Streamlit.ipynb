{
 "cells": [
  {
   "cell_type": "code",
   "execution_count": null,
   "id": "13ff5a83",
   "metadata": {
    "vscode": {
     "languageId": "plaintext"
    }
   },
   "outputs": [],
   "source": [
    "# 04_Chatbot_Demo_Streamlit.ipynb\n",
    "\n",
    "import streamlit as st\n",
    "from langchain.chat_models import ChatOpenAI\n",
    "from langchain.vectorstores import FAISS\n",
    "from langchain.embeddings import OpenAIEmbeddings\n",
    "from langchain.chains import RetrievalQA\n",
    "\n",
    "# Load Vectorstore\n",
    "vectorstore = FAISS.load_local(\"../rag_store/complaints_faiss\", OpenAIEmbeddings())\n",
    "retriever = vectorstore.as_retriever(search_type=\"similarity\", k=4)\n",
    "llm = ChatOpenAI(model_name=\"gpt-3.5-turbo\", temperature=0.3)\n",
    "qa_chain = RetrievalQA.from_chain_type(llm=llm, retriever=retriever)\n",
    "\n",
    "# Streamlit Interface\n",
    "st.title(\"💬 Financial Complaint Assistant\")\n",
    "st.write(\"This chatbot analyzes customer complaints and provides a suitable response or classification.\")\n",
    "\n",
    "query = st.text_input(\"Enter your complaint or inquiry here:\")\n",
    "\n",
    "if query:\n",
    "    response = qa_chain.run(query)\n",
    "    st.success(response)\n"
   ]
  }
 ],
 "metadata": {
  "language_info": {
   "name": "python"
  }
 },
 "nbformat": 4,
 "nbformat_minor": 5
}
