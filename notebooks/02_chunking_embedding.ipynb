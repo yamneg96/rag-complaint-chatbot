{
 "cells": [
  {
   "cell_type": "code",
   "execution_count": null,
   "id": "49819034",
   "metadata": {
    "vscode": {
     "languageId": "plaintext"
    }
   },
   "outputs": [],
   "source": [
    "# 02_VectorStore_Building.ipynb\n",
    "\n",
    "import pandas as pd\n",
    "from langchain.text_splitter import CharacterTextSplitter\n",
    "from langchain.embeddings import OpenAIEmbeddings\n",
    "from langchain.vectorstores import FAISS\n",
    "import os\n",
    "\n",
    "# Load cleaned data\n",
    "df = pd.read_csv(\"../data/cleaned_complaints.csv\")\n",
    "\n",
    "# Concatenate text and label\n",
    "docs = (df['complaint_text'] + \" | Category: \" + df['category']).tolist()\n",
    "\n",
    "# Split text into chunks\n",
    "text_splitter = CharacterTextSplitter(separator=\". \", chunk_size=500, chunk_overlap=100)\n",
    "chunks = []\n",
    "for doc in docs:\n",
    "    chunks.extend(text_splitter.split_text(doc))\n",
    "\n",
    "# Initialize OpenAI Embeddings\n",
    "os.environ[\"OPENAI_API_KEY\"] = \"your-api-key\"  # Optional for notebook, should be env var\n",
    "\n",
    "embeddings = OpenAIEmbeddings()\n",
    "vectorstore = FAISS.from_texts(chunks, embeddings)\n",
    "\n",
    "# Save vectorstore\n",
    "vectorstore.save_local(\"../rag_store/complaints_faiss\")\n"
   ]
  }
 ],
 "metadata": {
  "language_info": {
   "name": "python"
  }
 },
 "nbformat": 4,
 "nbformat_minor": 5
}
